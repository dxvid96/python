{
 "cells": [
  {
   "cell_type": "code",
   "execution_count": 2,
   "metadata": {},
   "outputs": [],
   "source": [
    "import random as random\n",
    "\n",
    "fruit_collection = ['Oranges', 'Kiwi', 'Coconut', 'Pineapples', 'Pear', 'Tangerines', 'Apples',\n",
    "                    'Bananas']\n",
    "\n",
    "# Creating a fruit game class in order to play different fruit related games given the lists\n",
    "class fruit_games:\n",
    "    def guess_fruit(x):\n",
    "        rand = random.choice(fruit_collection)\n",
    "        print('Running fruit game generator ...')\n",
    "        print([x, rand])\n",
    "\n",
    "        if x != rand:\n",
    "            return 'Failed try again next time...'\n",
    "        else:\n",
    "            return 'Congratulations you won well done, play again?'\n",
    "\n",
    "    def fruit_game2():\n",
    "        rand_gen = random.choice(fruit_collection)\n",
    "        rand_gen1 = random.choice(fruit_collection)\n",
    "\n",
    "        print('Running fruit game generator ...')\n",
    "        print([rand_gen, rand_gen1])\n",
    "      \n",
    "\n",
    "        if rand_gen != rand_gen1:\n",
    "            return 'failed try again, better luck next time'\n",
    "        else:\n",
    "            return 'congratulations, you won the fruit game'\n",
    "        \n",
    "    def guess_2_fruits(x, y):\n",
    "        rand_gen = [x, y]\n",
    "        rand_gen1 = [random.choice(fruit_collection), random.choice(fruit_collection)]\n",
    "        \n",
    "        print('Running fruit game generator.. .. .. ')\n",
    "        print([rand_gen, rand_gen1])\n",
    "        \n",
    "        fruit_list1 = []\n",
    "        fruit_list2 = []\n",
    "        \n",
    "        for i in rand_gen:\n",
    "            fruit_list1.append(i)\n",
    "            for r in rand_gen1:\n",
    "                fruit_list2.append(r)\n",
    "        \n",
    "        if fruit_list1[0] == fruit_list2[0] and fruit_list1[1] == fruit_list2[1]:\n",
    "            return 'Correct you guessed the fruit order correctly'\n",
    "        else:\n",
    "            return 'Unlucky, try again next time'"
   ]
  },
  {
   "cell_type": "code",
   "execution_count": 3,
   "metadata": {},
   "outputs": [
    {
     "name": "stdout",
     "output_type": "stream",
     "text": [
      "Running fruit game generator ...\n",
      "['Kiwi', 'Coconut']\n"
     ]
    },
    {
     "data": {
      "text/plain": [
       "'Failed try again next time...'"
      ]
     },
     "execution_count": 3,
     "metadata": {},
     "output_type": "execute_result"
    }
   ],
   "source": [
    "fruit_games.guess_fruit('Kiwi') # In this instance this fruit game fails because a kiwi was chosen\n",
    "# but the random selector chooses and apple"
   ]
  },
  {
   "cell_type": "code",
   "execution_count": 4,
   "metadata": {},
   "outputs": [
    {
     "name": "stdout",
     "output_type": "stream",
     "text": [
      "Running fruit game generator ...\n",
      "['Apples', 'Pineapples']\n"
     ]
    },
    {
     "data": {
      "text/plain": [
       "'Failed try again next time...'"
      ]
     },
     "execution_count": 4,
     "metadata": {},
     "output_type": "execute_result"
    }
   ],
   "source": [
    "fruit_games.guess_fruit('Apples') # Seems like the algorithm is enjoying playing games I choose Apples yet\n",
    "# it chooses kiwi"
   ]
  },
  {
   "cell_type": "code",
   "execution_count": 5,
   "metadata": {},
   "outputs": [
    {
     "name": "stdout",
     "output_type": "stream",
     "text": [
      "Running fruit game generator ...\n",
      "['Bananas', 'Coconut']\n"
     ]
    },
    {
     "data": {
      "text/plain": [
       "'Failed try again next time...'"
      ]
     },
     "execution_count": 5,
     "metadata": {},
     "output_type": "execute_result"
    }
   ],
   "source": [
    "fruit_games.guess_fruit('Bananas')"
   ]
  },
  {
   "cell_type": "code",
   "execution_count": 6,
   "metadata": {},
   "outputs": [
    {
     "name": "stdout",
     "output_type": "stream",
     "text": [
      "Running fruit game generator ...\n",
      "['Coconut', 'Kiwi']\n"
     ]
    },
    {
     "data": {
      "text/plain": [
       "'Failed try again next time...'"
      ]
     },
     "execution_count": 6,
     "metadata": {},
     "output_type": "execute_result"
    }
   ],
   "source": [
    "fruit_games.guess_fruit('Coconut')"
   ]
  },
  {
   "cell_type": "code",
   "execution_count": 7,
   "metadata": {},
   "outputs": [
    {
     "name": "stdout",
     "output_type": "stream",
     "text": [
      "Running fruit game generator ...\n",
      "['Pineapples', 'Pear']\n"
     ]
    },
    {
     "data": {
      "text/plain": [
       "'Failed try again next time...'"
      ]
     },
     "execution_count": 7,
     "metadata": {},
     "output_type": "execute_result"
    }
   ],
   "source": [
    "fruit_games.guess_fruit('Pineapples')"
   ]
  },
  {
   "cell_type": "code",
   "execution_count": 8,
   "metadata": {},
   "outputs": [
    {
     "name": "stdout",
     "output_type": "stream",
     "text": [
      "Running fruit game generator ...\n",
      "['Tangerines', 'Apples']\n"
     ]
    },
    {
     "data": {
      "text/plain": [
       "'Failed try again next time...'"
      ]
     },
     "execution_count": 8,
     "metadata": {},
     "output_type": "execute_result"
    }
   ],
   "source": [
    "fruit_games.guess_fruit('Tangerines')"
   ]
  },
  {
   "cell_type": "code",
   "execution_count": 9,
   "metadata": {},
   "outputs": [
    {
     "name": "stdout",
     "output_type": "stream",
     "text": [
      "Running fruit game generator ...\n",
      "['Coconut', 'Coconut']\n"
     ]
    },
    {
     "data": {
      "text/plain": [
       "'Congratulations you won well done, play again?'"
      ]
     },
     "execution_count": 9,
     "metadata": {},
     "output_type": "execute_result"
    }
   ],
   "source": [
    "fruit_games.guess_fruit('Coconut')"
   ]
  },
  {
   "cell_type": "code",
   "execution_count": 10,
   "metadata": {},
   "outputs": [
    {
     "name": "stdout",
     "output_type": "stream",
     "text": [
      "Running fruit game generator ...\n",
      "['Coconut', 'Bananas']\n"
     ]
    },
    {
     "data": {
      "text/plain": [
       "'failed try again, better luck next time'"
      ]
     },
     "execution_count": 10,
     "metadata": {},
     "output_type": "execute_result"
    }
   ],
   "source": [
    "fruit_games.fruit_game2()# the second fruit game\n",
    "# first run is not matching"
   ]
  },
  {
   "cell_type": "code",
   "execution_count": 11,
   "metadata": {},
   "outputs": [
    {
     "name": "stdout",
     "output_type": "stream",
     "text": [
      "Running fruit game generator ...\n",
      "['Pear', 'Bananas']\n"
     ]
    },
    {
     "data": {
      "text/plain": [
       "'failed try again, better luck next time'"
      ]
     },
     "execution_count": 11,
     "metadata": {},
     "output_type": "execute_result"
    }
   ],
   "source": [
    "fruit_games.fruit_game2() # The second run \n",
    "# there are matches and as can be seen the congratulations message is shown"
   ]
  },
  {
   "cell_type": "code",
   "execution_count": 12,
   "metadata": {},
   "outputs": [
    {
     "name": "stdout",
     "output_type": "stream",
     "text": [
      "Running fruit game generator ...\n",
      "['Kiwi', 'Kiwi']\n"
     ]
    },
    {
     "data": {
      "text/plain": [
       "'congratulations, you won the fruit game'"
      ]
     },
     "execution_count": 12,
     "metadata": {},
     "output_type": "execute_result"
    }
   ],
   "source": [
    "fruit_games.fruit_game2() # The third run\n",
    "# There is a success"
   ]
  },
  {
   "cell_type": "code",
   "execution_count": 13,
   "metadata": {},
   "outputs": [
    {
     "name": "stdout",
     "output_type": "stream",
     "text": [
      "Running fruit game generator.. .. .. \n",
      "[['Kiwi', 'Oranges'], ['Kiwi', 'Kiwi']]\n"
     ]
    },
    {
     "data": {
      "text/plain": [
       "'Unlucky, try again next time'"
      ]
     },
     "execution_count": 13,
     "metadata": {},
     "output_type": "execute_result"
    }
   ],
   "source": [
    "fruit_games.guess_2_fruits('Kiwi', 'Oranges') # fail"
   ]
  },
  {
   "cell_type": "code",
   "execution_count": 14,
   "metadata": {},
   "outputs": [
    {
     "name": "stdout",
     "output_type": "stream",
     "text": [
      "Running fruit game generator.. .. .. \n",
      "[['Kiwi', 'Oranges'], ['Oranges', 'Oranges']]\n"
     ]
    },
    {
     "data": {
      "text/plain": [
       "'Unlucky, try again next time'"
      ]
     },
     "execution_count": 14,
     "metadata": {},
     "output_type": "execute_result"
    }
   ],
   "source": [
    "fruit_games.guess_2_fruits('Kiwi', 'Oranges') # fail"
   ]
  },
  {
   "cell_type": "code",
   "execution_count": 15,
   "metadata": {},
   "outputs": [
    {
     "name": "stdout",
     "output_type": "stream",
     "text": [
      "Running fruit game generator.. .. .. \n",
      "[['Kiwi', 'Oranges'], ['Apples', 'Apples']]\n"
     ]
    },
    {
     "data": {
      "text/plain": [
       "'Unlucky, try again next time'"
      ]
     },
     "execution_count": 15,
     "metadata": {},
     "output_type": "execute_result"
    }
   ],
   "source": [
    "fruit_games.guess_2_fruits('Kiwi', 'Oranges') # fail"
   ]
  },
  {
   "cell_type": "code",
   "execution_count": 16,
   "metadata": {},
   "outputs": [
    {
     "name": "stdout",
     "output_type": "stream",
     "text": [
      "Running fruit game generator.. .. .. \n",
      "[['Bananas', 'Apples'], ['Bananas', 'Oranges']]\n"
     ]
    },
    {
     "data": {
      "text/plain": [
       "'Unlucky, try again next time'"
      ]
     },
     "execution_count": 16,
     "metadata": {},
     "output_type": "execute_result"
    }
   ],
   "source": [
    "fruit_games.guess_2_fruits('Bananas', 'Apples') # fail"
   ]
  },
  {
   "cell_type": "code",
   "execution_count": 17,
   "metadata": {},
   "outputs": [
    {
     "name": "stdout",
     "output_type": "stream",
     "text": [
      "Running fruit game generator.. .. .. \n",
      "[['Bananas', 'Apples'], ['Bananas', 'Tangerines']]\n"
     ]
    },
    {
     "data": {
      "text/plain": [
       "'Unlucky, try again next time'"
      ]
     },
     "execution_count": 17,
     "metadata": {},
     "output_type": "execute_result"
    }
   ],
   "source": [
    "fruit_games.guess_2_fruits('Bananas', 'Apples') #fail"
   ]
  },
  {
   "cell_type": "code",
   "execution_count": 18,
   "metadata": {},
   "outputs": [
    {
     "name": "stdout",
     "output_type": "stream",
     "text": [
      "Running fruit game generator.. .. .. \n",
      "[['Bananas', 'Apples'], ['Oranges', 'Apples']]\n"
     ]
    },
    {
     "data": {
      "text/plain": [
       "'Unlucky, try again next time'"
      ]
     },
     "execution_count": 18,
     "metadata": {},
     "output_type": "execute_result"
    }
   ],
   "source": [
    "fruit_games.guess_2_fruits('Bananas', 'Apples') #fail"
   ]
  },
  {
   "cell_type": "code",
   "execution_count": 19,
   "metadata": {},
   "outputs": [
    {
     "name": "stdout",
     "output_type": "stream",
     "text": [
      "Running fruit game generator.. .. .. \n",
      "[['Bananas', 'Apples'], ['Pineapples', 'Bananas']]\n"
     ]
    },
    {
     "data": {
      "text/plain": [
       "'Unlucky, try again next time'"
      ]
     },
     "execution_count": 19,
     "metadata": {},
     "output_type": "execute_result"
    }
   ],
   "source": [
    "fruit_games.guess_2_fruits('Bananas', 'Apples') #fail"
   ]
  },
  {
   "cell_type": "code",
   "execution_count": 20,
   "metadata": {},
   "outputs": [
    {
     "name": "stdout",
     "output_type": "stream",
     "text": [
      "Running fruit game generator.. .. .. \n",
      "[['Bananas', 'Apples'], ['Pear', 'Kiwi']]\n"
     ]
    },
    {
     "data": {
      "text/plain": [
       "'Unlucky, try again next time'"
      ]
     },
     "execution_count": 20,
     "metadata": {},
     "output_type": "execute_result"
    }
   ],
   "source": [
    "fruit_games.guess_2_fruits('Bananas', 'Apples') #fail"
   ]
  },
  {
   "cell_type": "code",
   "execution_count": 21,
   "metadata": {},
   "outputs": [
    {
     "name": "stdout",
     "output_type": "stream",
     "text": [
      "Running fruit game generator.. .. .. \n",
      "[['Bananas', 'Apples'], ['Oranges', 'Pear']]\n"
     ]
    },
    {
     "data": {
      "text/plain": [
       "'Unlucky, try again next time'"
      ]
     },
     "execution_count": 21,
     "metadata": {},
     "output_type": "execute_result"
    }
   ],
   "source": [
    "fruit_games.guess_2_fruits('Bananas', 'Apples') # fail"
   ]
  },
  {
   "cell_type": "code",
   "execution_count": 22,
   "metadata": {},
   "outputs": [
    {
     "name": "stdout",
     "output_type": "stream",
     "text": [
      "Running fruit game generator.. .. .. \n",
      "[['Bananas', 'Apples'], ['Tangerines', 'Pineapples']]\n"
     ]
    },
    {
     "data": {
      "text/plain": [
       "'Unlucky, try again next time'"
      ]
     },
     "execution_count": 22,
     "metadata": {},
     "output_type": "execute_result"
    }
   ],
   "source": [
    "fruit_games.guess_2_fruits('Bananas', 'Apples') # fail"
   ]
  },
  {
   "cell_type": "code",
   "execution_count": 24,
   "metadata": {},
   "outputs": [
    {
     "name": "stdout",
     "output_type": "stream",
     "text": [
      "Running fruit game generator.. .. .. \n",
      "[['Bananas', 'Oranges'], ['Kiwi', 'Tangerines']]\n"
     ]
    },
    {
     "data": {
      "text/plain": [
       "'Unlucky, try again next time'"
      ]
     },
     "execution_count": 24,
     "metadata": {},
     "output_type": "execute_result"
    }
   ],
   "source": [
    "fruit_games.guess_2_fruits('Bananas', 'Oranges') #fail"
   ]
  },
  {
   "cell_type": "code",
   "execution_count": 25,
   "metadata": {},
   "outputs": [
    {
     "name": "stdout",
     "output_type": "stream",
     "text": [
      "Running fruit game generator.. .. .. \n",
      "[['Bananas', 'Oranges'], ['Kiwi', 'Pineapples']]\n"
     ]
    },
    {
     "data": {
      "text/plain": [
       "'Unlucky, try again next time'"
      ]
     },
     "execution_count": 25,
     "metadata": {},
     "output_type": "execute_result"
    }
   ],
   "source": [
    "fruit_games.guess_2_fruits('Bananas', 'Oranges') #fail"
   ]
  },
  {
   "cell_type": "code",
   "execution_count": 26,
   "metadata": {},
   "outputs": [
    {
     "name": "stdout",
     "output_type": "stream",
     "text": [
      "Running fruit game generator.. .. .. \n",
      "[['Bananas', 'Oranges'], ['Pineapples', 'Pear']]\n"
     ]
    },
    {
     "data": {
      "text/plain": [
       "'Unlucky, try again next time'"
      ]
     },
     "execution_count": 26,
     "metadata": {},
     "output_type": "execute_result"
    }
   ],
   "source": [
    "fruit_games.guess_2_fruits('Bananas', 'Oranges') #fail"
   ]
  },
  {
   "cell_type": "code",
   "execution_count": 27,
   "metadata": {},
   "outputs": [
    {
     "name": "stdout",
     "output_type": "stream",
     "text": [
      "Running fruit game generator.. .. .. \n",
      "[['Bananas', 'Oranges'], ['Pear', 'Coconut']]\n"
     ]
    },
    {
     "data": {
      "text/plain": [
       "'Unlucky, try again next time'"
      ]
     },
     "execution_count": 27,
     "metadata": {},
     "output_type": "execute_result"
    }
   ],
   "source": [
    "fruit_games.guess_2_fruits('Bananas', 'Oranges') #fail"
   ]
  },
  {
   "cell_type": "code",
   "execution_count": 28,
   "metadata": {},
   "outputs": [
    {
     "name": "stdout",
     "output_type": "stream",
     "text": [
      "Running fruit game generator.. .. .. \n",
      "[['Bananas', 'Oranges'], ['Coconut', 'Kiwi']]\n"
     ]
    },
    {
     "data": {
      "text/plain": [
       "'Unlucky, try again next time'"
      ]
     },
     "execution_count": 28,
     "metadata": {},
     "output_type": "execute_result"
    }
   ],
   "source": [
    "# Yeah so basically the guess_2_fruits game is really difficult to win but you get the point"
   ]
  },
  {
   "cell_type": "code",
   "execution_count": 29,
   "metadata": {},
   "outputs": [
    {
     "name": "stdout",
     "output_type": "stream",
     "text": [
      "Running fruit game generator.. .. .. \n",
      "[['Pear', 'Oranges'], ['Pineapples', 'Pineapples']]\n"
     ]
    },
    {
     "data": {
      "text/plain": [
       "'Unlucky, try again next time'"
      ]
     },
     "execution_count": 29,
     "metadata": {},
     "output_type": "execute_result"
    }
   ],
   "source": [
    "# Lets try a few more times before I give up\n",
    "fruit_games.guess_2_fruits('Pear', 'Oranges') #fail"
   ]
  },
  {
   "cell_type": "code",
   "execution_count": 30,
   "metadata": {},
   "outputs": [
    {
     "name": "stdout",
     "output_type": "stream",
     "text": [
      "Running fruit game generator.. .. .. \n",
      "[['Kiwi', 'Pineapples'], ['Coconut', 'Apples']]\n"
     ]
    },
    {
     "data": {
      "text/plain": [
       "'Unlucky, try again next time'"
      ]
     },
     "execution_count": 30,
     "metadata": {},
     "output_type": "execute_result"
    }
   ],
   "source": [
    "fruit_games.guess_2_fruits('Kiwi', 'Pineapples') #fail"
   ]
  },
  {
   "cell_type": "code",
   "execution_count": 31,
   "metadata": {},
   "outputs": [
    {
     "name": "stdout",
     "output_type": "stream",
     "text": [
      "Running fruit game generator.. .. .. \n",
      "[['Kiwi', 'Pineapples'], ['Tangerines', 'Pear']]\n"
     ]
    },
    {
     "data": {
      "text/plain": [
       "'Unlucky, try again next time'"
      ]
     },
     "execution_count": 31,
     "metadata": {},
     "output_type": "execute_result"
    }
   ],
   "source": [
    "fruit_games.guess_2_fruits('Kiwi', 'Pineapples') #fail"
   ]
  },
  {
   "cell_type": "code",
   "execution_count": null,
   "metadata": {},
   "outputs": [],
   "source": []
  },
  {
   "cell_type": "code",
   "execution_count": null,
   "metadata": {},
   "outputs": [],
   "source": []
  },
  {
   "cell_type": "code",
   "execution_count": null,
   "metadata": {},
   "outputs": [],
   "source": []
  },
  {
   "cell_type": "code",
   "execution_count": null,
   "metadata": {},
   "outputs": [],
   "source": []
  },
  {
   "cell_type": "code",
   "execution_count": null,
   "metadata": {},
   "outputs": [],
   "source": []
  },
  {
   "cell_type": "code",
   "execution_count": null,
   "metadata": {},
   "outputs": [],
   "source": []
  },
  {
   "cell_type": "code",
   "execution_count": null,
   "metadata": {},
   "outputs": [],
   "source": []
  },
  {
   "cell_type": "code",
   "execution_count": null,
   "metadata": {},
   "outputs": [],
   "source": []
  },
  {
   "cell_type": "code",
   "execution_count": null,
   "metadata": {},
   "outputs": [],
   "source": []
  },
  {
   "cell_type": "code",
   "execution_count": null,
   "metadata": {},
   "outputs": [],
   "source": []
  },
  {
   "cell_type": "code",
   "execution_count": null,
   "metadata": {},
   "outputs": [],
   "source": []
  },
  {
   "cell_type": "code",
   "execution_count": null,
   "metadata": {},
   "outputs": [],
   "source": []
  }
 ],
 "metadata": {
  "kernelspec": {
   "display_name": "Python 3",
   "language": "python",
   "name": "python3"
  },
  "language_info": {
   "codemirror_mode": {
    "name": "ipython",
    "version": 3
   },
   "file_extension": ".py",
   "mimetype": "text/x-python",
   "name": "python",
   "nbconvert_exporter": "python",
   "pygments_lexer": "ipython3",
   "version": "3.7.3"
  }
 },
 "nbformat": 4,
 "nbformat_minor": 4
}
